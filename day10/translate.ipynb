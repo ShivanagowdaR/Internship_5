{
  "nbformat": 4,
  "nbformat_minor": 0,
  "metadata": {
    "colab": {
      "provenance": [],
      "gpuType": "T4"
    },
    "kernelspec": {
      "name": "python3",
      "display_name": "Python 3"
    },
    "language_info": {
      "name": "python"
    },
    "accelerator": "GPU"
  },
  "cells": [
    {
      "cell_type": "code",
      "source": [
        "from transformers import AutoTokenizer, AutoModelForSeq2SeqLM, pipeline"
      ],
      "metadata": {
        "id": "f83LpkRb40-v"
      },
      "execution_count": 1,
      "outputs": []
    },
    {
      "cell_type": "markdown",
      "source": [
        "# Model Setup"
      ],
      "metadata": {
        "id": "Y-fWJLAe-YE1"
      }
    },
    {
      "cell_type": "code",
      "source": [
        "model = AutoModelForSeq2SeqLM.from_pretrained('facebook/nllb-200-distilled-600M')\n",
        "tokenizer = AutoTokenizer.from_pretrained('facebook/nllb-200-distilled-600M')"
      ],
      "metadata": {
        "id": "OyBeiGwE5q-s"
      },
      "execution_count": 8,
      "outputs": []
    },
    {
      "cell_type": "code",
      "source": [
        "def translate(input_text, src_lang='eng_Latn', target_lang='kan_Knda'):\n",
        "  translator = pipeline('translation', model=model, tokenizer=tokenizer, src_lang=src_lang, tgt_lang=target_lang, max_length = 400)\n",
        "  return translator(input_text)[0]['translation_text']"
      ],
      "metadata": {
        "id": "EWw4q9lb5sGb"
      },
      "execution_count": 3,
      "outputs": []
    },
    {
      "cell_type": "markdown",
      "source": [
        "# Translation"
      ],
      "metadata": {
        "id": "cqsxMXfx-eWb"
      }
    },
    {
      "cell_type": "code",
      "source": [
        "input_text = \"My name is Abhiram and I am studying computer science.\"\n",
        "\n",
        "kannda = (translate(input_text, target_lang='kan_Knda'))\n",
        "hindi = (translate(input_text, target_lang='hin_Deva'))\n",
        "japanese = (translate(input_text, target_lang='jpn_Jpan'))"
      ],
      "metadata": {
        "colab": {
          "base_uri": "https://localhost:8080/"
        },
        "id": "IDjSbhCo5AqO",
        "outputId": "6f80e010-d42c-4f2e-9a29-70b0999d1149"
      },
      "execution_count": 5,
      "outputs": [
        {
          "output_type": "stream",
          "name": "stderr",
          "text": [
            "Device set to use cuda:0\n",
            "Device set to use cuda:0\n",
            "Device set to use cuda:0\n"
          ]
        }
      ]
    },
    {
      "cell_type": "markdown",
      "source": [
        "# Output"
      ],
      "metadata": {
        "id": "fnneNN-U-fyl"
      }
    },
    {
      "cell_type": "code",
      "source": [
        "print(f\"Kannada translation: {kannda}\\n\")\n",
        "print(f\"Hindi translation: {hindi}\\n\")\n",
        "print(f\"Japense translation: {japanese}\\n\")"
      ],
      "metadata": {
        "colab": {
          "base_uri": "https://localhost:8080/"
        },
        "id": "_thpsCo-84_K",
        "outputId": "ebc8d613-ee67-4317-986b-d9ebcaf1b350"
      },
      "execution_count": 7,
      "outputs": [
        {
          "output_type": "stream",
          "name": "stdout",
          "text": [
            "Kannada translation: ನನ್ನ ಹೆಸರು ಅಬ್ರಹಾಂ ಮತ್ತು ನಾನು ಕಂಪ್ಯೂಟರ್ ವಿಜ್ಞಾನವನ್ನು ಅಧ್ಯಯನ ಮಾಡುತ್ತಿದ್ದೇನೆ.\n",
            "\n",
            "Hindi translation: मेरा नाम अभिराम है और मैं कंप्यूटर विज्ञान का अध्ययन कर रहा हूँ।\n",
            "\n",
            "Japense translation: 私の名前はアビラム 私はコンピュータ科学を勉強しています\n",
            "\n"
          ]
        }
      ]
    }
  ]
}